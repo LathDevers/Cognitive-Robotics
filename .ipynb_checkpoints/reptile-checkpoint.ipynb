{
 "cells": [
  {
   "cell_type": "markdown",
   "metadata": {},
   "source": [
    "<img\n",
    "     img align=\"left\"\n",
    "     src=\"uni_logo_black.png\"\n",
    "     alt=\"Universität Bielefeld\"\n",
    "     width=\"20%\"\n",
    "/>"
   ]
  },
  {
   "cell_type": "markdown",
   "metadata": {},
   "source": [
    "# Miniproject 10: Meta-Learning with Reptile\n",
    "#### József Lurvig\n",
    "19. July 2022\n",
    "\n",
    "*A. Nichol, J. Achiam, J. Schulman (2018): On First-Order Meta-Learning Algorithms*"
   ]
  },
  {
   "cell_type": "markdown",
   "metadata": {},
   "source": [
    "This paper considers meta-learning problems, where there is a distribution of tasks, and we would like to obtain an agent that performs well (i.e., learns quickly) when presented with a previously unseen task sampled from this distribution."
   ]
  },
  {
   "cell_type": "markdown",
   "metadata": {},
   "source": [
    "## Problem\n",
    "Many tasks: for every task a different AI needs to be trained and training takes long."
   ]
  },
  {
   "cell_type": "markdown",
   "metadata": {},
   "source": [
    "## Content\n",
    "- First order MAML\n",
    "- Reptile"
   ]
  },
  {
   "cell_type": "markdown",
   "metadata": {},
   "source": [
    "### Human vs ML\n",
    "ML systems have surpassed humans at many tasks, but they need far more data to reach the same level of performance. This comparison is however not fair, because these algorithms have to start from scratch, humans enter the task with a large amount of prior/background knowledge, encoded in their brains and DNA. Humans don't learn every time from scratch, but they are fine-tuning and recombining a set of pre-existing skills.\n",
    "\n",
    "Tenenbaum et al.: This can be explained as Bayesian inference --> the key is to make our algorithms more Bayesian. This is however difficult. (should make use of deep neural networks and should be computationally feasible)"
   ]
  },
  {
   "cell_type": "markdown",
   "metadata": {},
   "source": [
    "## Meta-learning\n",
    "Meta learning is a relatively new approach for learning from small amounts of data. It seeks to directly optimize a fast-learning algorithm, using a dataset of tasks.\n",
    "\n",
    "Meta learning is a subfield of machine learning where automatic learning algorithms are applied to metadata about machine learning experiments. [1](https://en.wikipedia.org/wiki/Meta_learning_(computer_science))\n",
    "\n",
    "Examples for meta-learning:\n",
    "- Recurrent Neural Networks (RNN)\n",
    "- Model-agnostic meta-learning (MAML)\n",
    "- etc.\n",
    "\n",
    "#### Summary\n",
    "\n",
    "- relatively new\n",
    "- uses a dataset of tasks\n",
    "- learning from previous learning experiences in order to improve future learning"
   ]
  },
  {
   "cell_type": "markdown",
   "metadata": {},
   "source": [
    "## Model-agnostic meta-learning (MAML)\n",
    "Model-Agnostic Meta-Learning (MAML) was introduced in 2017 by Chelsea Finn et al. Given a sequence of tasks, the parameters of a given model are trained such that few iterations of gradient descent with few training data from a new task will lead to good generalization performance on that task. MAML \"trains the model to be easy to fine-tune.\" MAML was successfully applied to few-shot image classification benchmarks and to policy-gradient-based reinforcement learning. **[[1](https://en.wikipedia.org/wiki/Meta_learning_(computer_science))]**\n",
    "\n",
    "Compatible with any model trained with gradient descent and applicable to a variety of different learning problems. The goal of meta-learning is to train a model on a variety of learning tasks, such that it can solve new learning tasks using only a small number of training samples. **[[2](https://arxiv.org/abs/1703.03400)]**\n",
    "\n",
    "1. MAML is a powerful tool for meta-learning that can be used to improve the performance of machine learning models.\n",
    "2. MAML can be used to train models on a variety of tasks and then fine-tune them for a specific task.\n",
    "3. MAML is efficient and can be used to train models on large datasets.\n",
    "4. MAML is scalable and can be used to train models on a variety of hardware platforms.\n",
    "5. MAML is open source and available for use by anyone."
   ]
  },
  {
   "cell_type": "markdown",
   "metadata": {},
   "source": [
    "## Test leírás\n",
    "Access a distribution over tasks, they sample a training set of tasks and a test set of tasks.\n",
    "\n",
    "Algorithm gets trainig set of tasks and produces agent, that has good average performance on the test set of tasks. Reenforcement reward = learning quickly."
   ]
  },
  {
   "cell_type": "code",
   "execution_count": null,
   "metadata": {},
   "outputs": [],
   "source": []
  }
 ],
 "metadata": {
  "kernelspec": {
   "display_name": "Python 3",
   "language": "python",
   "name": "python3"
  },
  "language_info": {
   "codemirror_mode": {
    "name": "ipython",
    "version": 3
   },
   "file_extension": ".py",
   "mimetype": "text/x-python",
   "name": "python",
   "nbconvert_exporter": "python",
   "pygments_lexer": "ipython3",
   "version": "3.8.10"
  },
  "vscode": {
   "interpreter": {
    "hash": "59f3145cc67fcda0343c2852f1f97113a2e6e98841e887156424448e7071ad54"
   }
  }
 },
 "nbformat": 4,
 "nbformat_minor": 4
}
